{
 "cells": [
  {
   "cell_type": "markdown",
   "id": "6991dcce",
   "metadata": {},
   "source": [
    "**Epidemic / Forest fire Model**"
   ]
  },
  {
   "cell_type": "markdown",
   "id": "80698e07",
   "metadata": {},
   "source": [
    "This model is about contact processes. Assume that there is a square shaped geographical area, represented as a CA space in which trees (1) are distributed with some given probability $p$. That is, $p = 0$ meaans that there are no trees in space, whereas p  = 1 means that trees are everywhere with no open space left in the area. Then, you set fire (2) to one of the trees in this forest to see if the fire you started eventually destroys the entire forest. A tree will catch fire if there is at least one tree burning in its neighbourhood, and the burning tree will be charred (3) completely in one time step.   \n",
    "This model does not have cyclic local dynamics; possible state transitions are always one way from a tree (1) to a burning tree (2) to a charred tree (3). Thus, the entire sysstem falls into a static final configuration with no further changes possible. But the total area burned in the final configuration greatly depends on the density of trees p. A large value of p will lead to a significant portion of the forest being burned down eventually. This phenomenon is called *percolation* in statistical physics, which inuitively means that something found a way to go through a large poriotn of material from one side to another. "
   ]
  },
  {
   "cell_type": "code",
   "execution_count": 1,
   "id": "ac36f1cc",
   "metadata": {},
   "outputs": [
    {
     "name": "stderr",
     "output_type": "stream",
     "text": [
      "\n",
      "Bad key text.latex.preview in file C:\\Users\\Omika\\anaconda3\\lib\\site-packages\\matplotlib\\mpl-data\\stylelib\\_classic_test.mplstyle, line 123 ('text.latex.preview : False')\n",
      "You probably need to get an updated matplotlibrc file from\n",
      "https://github.com/matplotlib/matplotlib/blob/v3.5.0/matplotlibrc.template\n",
      "or from the matplotlib source distribution\n",
      "\n",
      "Bad key mathtext.fallback_to_cm in file C:\\Users\\Omika\\anaconda3\\lib\\site-packages\\matplotlib\\mpl-data\\stylelib\\_classic_test.mplstyle, line 155 ('mathtext.fallback_to_cm : True  # When True, use symbols from the Computer Modern')\n",
      "You probably need to get an updated matplotlibrc file from\n",
      "https://github.com/matplotlib/matplotlib/blob/v3.5.0/matplotlibrc.template\n",
      "or from the matplotlib source distribution\n",
      "\n",
      "Bad key savefig.jpeg_quality in file C:\\Users\\Omika\\anaconda3\\lib\\site-packages\\matplotlib\\mpl-data\\stylelib\\_classic_test.mplstyle, line 418 ('savefig.jpeg_quality: 95       # when a jpeg is saved, the default quality parameter.')\n",
      "You probably need to get an updated matplotlibrc file from\n",
      "https://github.com/matplotlib/matplotlib/blob/v3.5.0/matplotlibrc.template\n",
      "or from the matplotlib source distribution\n",
      "\n",
      "Bad key keymap.all_axes in file C:\\Users\\Omika\\anaconda3\\lib\\site-packages\\matplotlib\\mpl-data\\stylelib\\_classic_test.mplstyle, line 466 ('keymap.all_axes : a                 # enable all axes')\n",
      "You probably need to get an updated matplotlibrc file from\n",
      "https://github.com/matplotlib/matplotlib/blob/v3.5.0/matplotlibrc.template\n",
      "or from the matplotlib source distribution\n",
      "\n",
      "Bad key animation.avconv_path in file C:\\Users\\Omika\\anaconda3\\lib\\site-packages\\matplotlib\\mpl-data\\stylelib\\_classic_test.mplstyle, line 477 ('animation.avconv_path: avconv     # Path to avconv binary. Without full path')\n",
      "You probably need to get an updated matplotlibrc file from\n",
      "https://github.com/matplotlib/matplotlib/blob/v3.5.0/matplotlibrc.template\n",
      "or from the matplotlib source distribution\n",
      "\n",
      "Bad key animation.avconv_args in file C:\\Users\\Omika\\anaconda3\\lib\\site-packages\\matplotlib\\mpl-data\\stylelib\\_classic_test.mplstyle, line 479 ('animation.avconv_args:            # Additional arguments to pass to avconv')\n",
      "You probably need to get an updated matplotlibrc file from\n",
      "https://github.com/matplotlib/matplotlib/blob/v3.5.0/matplotlibrc.template\n",
      "or from the matplotlib source distribution\n"
     ]
    }
   ],
   "source": [
    "import matplotlib\n",
    "matplotlib.use(\"TkAgg\")\n",
    "\n",
    "import pylab as pl\n",
    "import random as rd\n",
    "import scipy as sp\n",
    "\n",
    "rd.seed()\n",
    "\n",
    "width = 100\n",
    "height = 100\n",
    "initProb = 0.4\n",
    "empty, tree, fire, char = range(4)\n",
    "\n",
    "def init():\n",
    "    global time, config, nextconfig\n",
    "    \n",
    "    time = 0\n",
    "    \n",
    "    config = sp.zeros([height, width])\n",
    "    for x in range(width):\n",
    "        for y in range(height):\n",
    "            if rd.random() < initProb:\n",
    "                state = tree\n",
    "            else:\n",
    "                state = empty\n",
    "            config[y, x] = state\n",
    "    config[int(height/2), int(width/2)] = fire\n",
    "    \n",
    "    nextconfig = sp.zeros([height, width])\n",
    "\n",
    "def draw():\n",
    "    pl.cla()\n",
    "    pl.pcolor(config, vmin = 0, vmax = 3, cmap = pl.cm.binary)\n",
    "    pl.axis(\"image\")\n",
    "    pl.title(\"t = \" + str(time))\n",
    "\n",
    "def step():\n",
    "    global time, config, nextconfig\n",
    "    \n",
    "    time += 1\n",
    "    for x in range(width):\n",
    "        for y in range(height):\n",
    "            state = config[y, x]\n",
    "            if state == fire:\n",
    "                state = char\n",
    "            elif state == tree:\n",
    "                for dx in range(-1, 2):\n",
    "                    for dy in range(-1, 2):\n",
    "                        if config[(y+dy)%height, (x+dx)%width] == fire:\n",
    "                            state = fire\n",
    "            nextconfig[y, x] = state\n",
    "            \n",
    "    config, nextconfig = nextconfig, config"
   ]
  },
  {
   "cell_type": "code",
   "execution_count": 2,
   "id": "9c63f850",
   "metadata": {},
   "outputs": [
    {
     "name": "stderr",
     "output_type": "stream",
     "text": [
      "C:\\Users\\Omika\\AppData\\Local\\Temp/ipykernel_14864/1862436946.py:20: DeprecationWarning: scipy.zeros is deprecated and will be removed in SciPy 2.0.0, use numpy.zeros instead\n",
      "  config = sp.zeros([height, width])\n",
      "C:\\Users\\Omika\\AppData\\Local\\Temp/ipykernel_14864/1862436946.py:30: DeprecationWarning: scipy.zeros is deprecated and will be removed in SciPy 2.0.0, use numpy.zeros instead\n",
      "  nextconfig = sp.zeros([height, width])\n",
      "C:\\Users\\Omika\\anaconda3\\lib\\site-packages\\ipykernel\\eventloops.py:256: RuntimeWarning: coroutine 'Kernel.do_one_iteration' was never awaited\n",
      "  self.func()\n",
      "RuntimeWarning: Enable tracemalloc to get the object allocation traceback\n"
     ]
    }
   ],
   "source": [
    "import pycxsimulator\n",
    "pycxsimulator.GUI().start(func=[init, draw, step])"
   ]
  },
  {
   "cell_type": "code",
   "execution_count": null,
   "id": "5aecc111",
   "metadata": {},
   "outputs": [],
   "source": []
  }
 ],
 "metadata": {
  "@webio": {
   "lastCommId": null,
   "lastKernelId": null
  },
  "kernelspec": {
   "display_name": "Python 3 (ipykernel)",
   "language": "python",
   "name": "python3"
  },
  "language_info": {
   "codemirror_mode": {
    "name": "ipython",
    "version": 3
   },
   "file_extension": ".py",
   "mimetype": "text/x-python",
   "name": "python",
   "nbconvert_exporter": "python",
   "pygments_lexer": "ipython3",
   "version": "3.8.12"
  }
 },
 "nbformat": 4,
 "nbformat_minor": 5
}
